{
 "cells": [
  {
   "cell_type": "code",
   "metadata": {
    "ExecuteTime": {
     "end_time": "2024-10-16T00:52:47.060460Z",
     "start_time": "2024-10-16T00:52:47.049677Z"
    }
   },
   "source": [
    "import numpy as np\n",
    "import pandas as pd"
   ],
   "outputs": [],
   "execution_count": 26
  },
  {
   "cell_type": "code",
   "metadata": {
    "ExecuteTime": {
     "end_time": "2024-10-16T00:52:47.138522Z",
     "start_time": "2024-10-16T00:52:47.090893Z"
    }
   },
   "source": [
    "data = pd.read_csv(r\"dataset/iris.arff.csv\", header=0)\n",
    "# data.drop([\"Id\"], axis=1, inplace=True)  # 去掉无关特征\n",
    "data.drop_duplicates(inplace=True)  # 去除重复元素\n",
    "\n",
    "# data[\"class\"].drop_duplicates()\n",
    "# Iris-setosa Iris-versicolor Iris-virginica\n",
    "\n",
    "# 名称映射为数字\n",
    "data[\"class\"] = data[\"class\"].map({\"Iris-setosa\":0, \"Iris-versicolor\":1, \"Iris-virginica\":2})\n",
    "# 筛选数据，只选择0和1\n",
    "data = data[data[\"class\"]!=2]\n",
    "data"
   ],
   "outputs": [
    {
     "data": {
      "text/plain": [
       "    sepallength  sepalwidth  petallength  petalwidth  class\n",
       "0           5.1         3.5          1.4         0.2      0\n",
       "1           4.9         3.0          1.4         0.2      0\n",
       "2           4.7         3.2          1.3         0.2      0\n",
       "3           4.6         3.1          1.5         0.2      0\n",
       "4           5.0         3.6          1.4         0.2      0\n",
       "..          ...         ...          ...         ...    ...\n",
       "95          5.7         3.0          4.2         1.2      1\n",
       "96          5.7         2.9          4.2         1.3      1\n",
       "97          6.2         2.9          4.3         1.3      1\n",
       "98          5.1         2.5          3.0         1.1      1\n",
       "99          5.7         2.8          4.1         1.3      1\n",
       "\n",
       "[98 rows x 5 columns]"
      ],
      "text/html": [
       "<div>\n",
       "<style scoped>\n",
       "    .dataframe tbody tr th:only-of-type {\n",
       "        vertical-align: middle;\n",
       "    }\n",
       "\n",
       "    .dataframe tbody tr th {\n",
       "        vertical-align: top;\n",
       "    }\n",
       "\n",
       "    .dataframe thead th {\n",
       "        text-align: right;\n",
       "    }\n",
       "</style>\n",
       "<table border=\"1\" class=\"dataframe\">\n",
       "  <thead>\n",
       "    <tr style=\"text-align: right;\">\n",
       "      <th></th>\n",
       "      <th>sepallength</th>\n",
       "      <th>sepalwidth</th>\n",
       "      <th>petallength</th>\n",
       "      <th>petalwidth</th>\n",
       "      <th>class</th>\n",
       "    </tr>\n",
       "  </thead>\n",
       "  <tbody>\n",
       "    <tr>\n",
       "      <th>0</th>\n",
       "      <td>5.1</td>\n",
       "      <td>3.5</td>\n",
       "      <td>1.4</td>\n",
       "      <td>0.2</td>\n",
       "      <td>0</td>\n",
       "    </tr>\n",
       "    <tr>\n",
       "      <th>1</th>\n",
       "      <td>4.9</td>\n",
       "      <td>3.0</td>\n",
       "      <td>1.4</td>\n",
       "      <td>0.2</td>\n",
       "      <td>0</td>\n",
       "    </tr>\n",
       "    <tr>\n",
       "      <th>2</th>\n",
       "      <td>4.7</td>\n",
       "      <td>3.2</td>\n",
       "      <td>1.3</td>\n",
       "      <td>0.2</td>\n",
       "      <td>0</td>\n",
       "    </tr>\n",
       "    <tr>\n",
       "      <th>3</th>\n",
       "      <td>4.6</td>\n",
       "      <td>3.1</td>\n",
       "      <td>1.5</td>\n",
       "      <td>0.2</td>\n",
       "      <td>0</td>\n",
       "    </tr>\n",
       "    <tr>\n",
       "      <th>4</th>\n",
       "      <td>5.0</td>\n",
       "      <td>3.6</td>\n",
       "      <td>1.4</td>\n",
       "      <td>0.2</td>\n",
       "      <td>0</td>\n",
       "    </tr>\n",
       "    <tr>\n",
       "      <th>...</th>\n",
       "      <td>...</td>\n",
       "      <td>...</td>\n",
       "      <td>...</td>\n",
       "      <td>...</td>\n",
       "      <td>...</td>\n",
       "    </tr>\n",
       "    <tr>\n",
       "      <th>95</th>\n",
       "      <td>5.7</td>\n",
       "      <td>3.0</td>\n",
       "      <td>4.2</td>\n",
       "      <td>1.2</td>\n",
       "      <td>1</td>\n",
       "    </tr>\n",
       "    <tr>\n",
       "      <th>96</th>\n",
       "      <td>5.7</td>\n",
       "      <td>2.9</td>\n",
       "      <td>4.2</td>\n",
       "      <td>1.3</td>\n",
       "      <td>1</td>\n",
       "    </tr>\n",
       "    <tr>\n",
       "      <th>97</th>\n",
       "      <td>6.2</td>\n",
       "      <td>2.9</td>\n",
       "      <td>4.3</td>\n",
       "      <td>1.3</td>\n",
       "      <td>1</td>\n",
       "    </tr>\n",
       "    <tr>\n",
       "      <th>98</th>\n",
       "      <td>5.1</td>\n",
       "      <td>2.5</td>\n",
       "      <td>3.0</td>\n",
       "      <td>1.1</td>\n",
       "      <td>1</td>\n",
       "    </tr>\n",
       "    <tr>\n",
       "      <th>99</th>\n",
       "      <td>5.7</td>\n",
       "      <td>2.8</td>\n",
       "      <td>4.1</td>\n",
       "      <td>1.3</td>\n",
       "      <td>1</td>\n",
       "    </tr>\n",
       "  </tbody>\n",
       "</table>\n",
       "<p>98 rows × 5 columns</p>\n",
       "</div>"
      ]
     },
     "execution_count": 27,
     "metadata": {},
     "output_type": "execute_result"
    }
   ],
   "execution_count": 27
  },
  {
   "cell_type": "code",
   "metadata": {
    "ExecuteTime": {
     "end_time": "2024-10-16T00:52:47.261303Z",
     "start_time": "2024-10-16T00:52:47.248287Z"
    }
   },
   "source": [
    "class LogisticRegression:\n",
    "    '''逻辑回归算法实现'''\n",
    "    def __init__(self, learning_rate, times):\n",
    "        '''初始化\n",
    "        parameters\n",
    "        -----\n",
    "        learning_rate: float 学习率\n",
    "        times: int 迭代次数\n",
    "        '''\n",
    "        self.learning_rate = learning_rate\n",
    "        self.times = times\n",
    "        \n",
    "    def sigmoid(self, z):\n",
    "        ''' sigmoid实现\n",
    "        -----\n",
    "        z: float  自变量： z=w.T*x + b\n",
    "        -----\n",
    "        因变量 p: float, 属于[0,1]区间。p>=0.5(z>0)时，类别为1，否则为0\n",
    "        '''\n",
    "        return 1.0 / ( 1.0 + np.exp(-z) )    \n",
    "    def fit(self, X, y):\n",
    "        '''\n",
    "        训练\n",
    "        Parameters:\n",
    "        X: 特征矩阵，可以是List也可以是Ndarray，形状为： [样本数量,特征数量]\n",
    "        y: 标签数组\n",
    "        '''\n",
    "        X = np.asarray(X)  # 和np.array差不多，但是要高级一些\n",
    "        y = np.asarray(y)\n",
    "        # 创建权重向量，初始化为0. 长度多加的1是截距\n",
    "        self.w_ = np.zeros(1 + X.shape[1]) # shape[0]为样本数量，shape[1]为特征数量\n",
    "        # 创建损失列表，保存每次迭代后的损失值\n",
    "        self.loss_ = []\n",
    "        for i in range(self.times):\n",
    "            z = np.dot(X, self.w_[1:]) + self.w_[0]\n",
    "            # 计算概率值(判定为1的概率值)\n",
    "            p = self.sigmoid(z)\n",
    "            # 根据逻辑回归的代价函数（目标函数或叫损失函数）计算损失值\n",
    "            # 逻辑回归的代价函数（目标函数或叫损失函数）：\n",
    "            # J(W) = - sum(yi * log(sigmoid(zi))+(1-yi)log(1-sigmoid(zi)))  \n",
    "            cost = - np.sum(y * np.log(p) + (1 - y) * np.log(1 - p))  \n",
    "            self.loss_.append(cost)\n",
    "            # *******************重点：权重更新********************\n",
    "            # 调整权重值，根据公式 权重(j列) = 权重(j列) + 学习率 * sum( y - s(z)) * x(j列)\n",
    "            self.w_[0] += self.learning_rate * np.sum(y - p) * 1\n",
    "            self.w_[1:] += self.learning_rate * np.dot(X.T, y - p)\n",
    "    def predict_proba(self, X):\n",
    "        '''根据参数传递的样本，对样本数据进行预测属于某一个类别的概率\n",
    "        \n",
    "        Parameters\n",
    "        -----\n",
    "        X: 类数组类型 [ 样本数量, 特征数量]\n",
    "        \n",
    "        Return\n",
    "        -----\n",
    "        result：预测（概率值）\n",
    "        '''\n",
    "        X = np.asarray(X)\n",
    "        z = np.dot(X, self.w_[1:]) + self.w_[0]\n",
    "        p = self.sigmoid(z)\n",
    "        # 将预测结果转换为二位数组，方便后续拼接\n",
    "        p = p.reshape(-1,1)\n",
    "        # 将两个数组拼接，方向是横向拼接\n",
    "        return np.concatenate([1-p, p], axis=1) #横向拼接为为1\n",
    "    def predict(self, X):\n",
    "        '''预测样本属于哪个类别\n",
    "        \n",
    "        Parameters\n",
    "        -----\n",
    "        X: 类数组类型： [样本数量，特征数量]. 带预测样本特征\n",
    "        \n",
    "        Return\n",
    "        -----\n",
    "        返回属于哪个类别\n",
    "        '''\n",
    "        return np.argmax(self.predict_proba(X), axis=1)  # 返回值较大的那个为类别"
   ],
   "outputs": [],
   "execution_count": 28
  },
  {
   "cell_type": "code",
   "metadata": {
    "ExecuteTime": {
     "end_time": "2024-10-16T00:52:47.354395Z",
     "start_time": "2024-10-16T00:52:47.324851Z"
    }
   },
   "source": [
    "t1 = data[data[\"class\"]==0]\n",
    "t2 = data[data[\"class\"]==1]\n",
    "t1 = t1.sample(len(t1), random_state=0)\n",
    "t2 = t2.sample(len(t2), random_state=0)\n",
    "train_X = pd.concat([t1.iloc[:40,:-1], t2.iloc[:40,:-1]], axis=0)\n",
    "train_y = pd.concat([t1.iloc[:40,-1], t2.iloc[:40,-1]], axis=0)\n",
    "test_X = pd.concat([t1.iloc[40:,:-1], t2.iloc[40:,:-1]], axis=0)\n",
    "test_y = pd.concat([t1.iloc[40:,-1], t2.iloc[40:,-1]], axis=0)\n",
    "\n",
    "# 鸢尾花的特征列都在同一个数量级，我们可以不用标准化处理\n",
    "lr = LogisticRegression(learning_rate=0.01, times=20)\n",
    "lr.fit(train_X, train_y)\n",
    "# lr.predict_proba(test_X)\n",
    "result = lr.predict(test_X)\n",
    "# 计算准确性\n",
    "accuracy = np.sum(result==test_y) / len(test_y)\n",
    "display(accuracy)"
   ],
   "outputs": [
    {
     "data": {
      "text/plain": [
       "1.0"
      ]
     },
     "metadata": {},
     "output_type": "display_data"
    }
   ],
   "execution_count": 29
  },
  {
   "cell_type": "code",
   "metadata": {
    "ExecuteTime": {
     "end_time": "2024-10-16T00:52:48.208331Z",
     "start_time": "2024-10-16T00:52:47.494360Z"
    }
   },
   "source": [
    "import matplotlib as mpl\n",
    "import matplotlib.pyplot as plt\n",
    "mpl.rcParams['font.family'] = 'SimHei'\n",
    "mpl.rcParams['axes.unicode_minus'] = False"
   ],
   "outputs": [],
   "execution_count": 30
  },
  {
   "cell_type": "code",
   "metadata": {
    "ExecuteTime": {
     "end_time": "2024-10-16T00:59:03.729302Z",
     "start_time": "2024-10-16T00:59:03.590754Z"
    }
   },
   "source": [
    "# 绘制预测值\n",
    "plt.plot(result, 'ro',ms=15, label=\"真实值\") # ms指定圆圈大小\n",
    "plt.plot(test_y.values, 'go', label=\"预测值\") # pandas读取时serise类型，我们需要转为ndarray\n",
    "plt.title('逻辑回归预测')\n",
    "plt.xlabel('样本序号')\n",
    "plt.ylabel('预测值')\n",
    "plt.show()\n"
   ],
   "outputs": [
    {
     "data": {
      "text/plain": [
       "<Figure size 640x480 with 1 Axes>"
      ],
      "image/png": "[encoded data removed]"
     },
     "metadata": {},
     "output_type": "display_data"
    }
   ],
   "execution_count": 33
  },
  {
   "cell_type": "code",
   "metadata": {
    "ExecuteTime": {
     "end_time": "2024-10-16T00:52:48.612871Z",
     "start_time": "2024-10-16T00:52:48.457814Z"
    }
   },
   "source": [
    "# 绘制目标函数的损失值\n",
    "plt.plot(range(1,lr.times+1), lr.loss_, 'go-')\n",
    "plt.xlabel('迭代次数')\n",
    "plt.ylabel('损失值loss')"
   ],
   "outputs": [
    {
     "data": {
      "text/plain": [
       "Text(0, 0.5, '损失值loss')"
      ]
     },
     "execution_count": 32,
     "metadata": {},
     "output_type": "execute_result"
    },
    {
     "data": {
      "text/plain": [
       "<Figure size 640x480 with 1 Axes>"
      ],
      "image/png": "[encoded data removed]"
     },
     "metadata": {},
     "output_type": "display_data"
    }
   ],
   "execution_count": 32
  }
 ],
 "metadata": {
  "kernelspec": {
   "display_name": "Python 3",
   "language": "python",
   "name": "python3"
  },
  "language_info": {
   "codemirror_mode": {
    "name": "ipython",
    "version": 3
   },
   "file_extension": ".py",
   "mimetype": "text/x-python",
   "name": "python",
   "nbconvert_exporter": "python",
   "pygments_lexer": "ipython3",
   "version": "3.7.4"
  }
 },
 "nbformat": 4,
 "nbformat_minor": 2
}

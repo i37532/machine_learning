{
 "cells": [
  {
   "cell_type": "code",
   "id": "initial_id",
   "metadata": {
    "collapsed": true,
    "ExecuteTime": {
     "end_time": "2024-10-16T11:10:45.583652Z",
     "start_time": "2024-10-16T11:10:45.506024Z"
    }
   },
   "source": [
    "from sklearn.tree import DecisionTreeRegressor\n",
    "from sklearn import datasets\n",
    "from sklearn.tree import export_graphviz\n",
    "import os\n",
    "import graphviz \n",
    "os.environ[\"Path\"] += os.pathsep + r'E:\\Program Files (x86)\\Graphviz\\bin'\n",
    "\n",
    "diabetes = datasets.load_diabetes()\n",
    "X = diabetes.data\n",
    "y = diabetes.target\n",
    "\n",
    "DTR = DecisionTreeRegressor(max_depth = 10)\n",
    "DTR.fit(X, y)\n",
    "print(DTR.score(X, y))\n",
    "\n",
    "export_graphviz(DTR, out_file = 'regress_tree.dot',\n",
    "               feature_names = diabetes.feature_names) "
   ],
   "outputs": [
    {
     "name": "stdout",
     "output_type": "stream",
     "text": [
      "0.9645145985705765\n"
     ]
    }
   ],
   "execution_count": 7
  },
  {
   "metadata": {
    "ExecuteTime": {
     "end_time": "2024-10-16T11:10:48.237436Z",
     "start_time": "2024-10-16T11:10:47.550654Z"
    }
   },
   "cell_type": "code",
   "source": [
    "with open('regress_tree.dot') as f:\n",
    "    dot_graph = f.read()\n",
    "graphviz.Source(dot_graph).render('regress_tree')"
   ],
   "id": "4b6e65db28fdda95",
   "outputs": [
    {
     "data": {
      "text/plain": [
       "'regress_tree.pdf'"
      ]
     },
     "execution_count": 8,
     "metadata": {},
     "output_type": "execute_result"
    }
   ],
   "execution_count": 8
  }
 ],
 "metadata": {
  "kernelspec": {
   "display_name": "Python 3",
   "language": "python",
   "name": "python3"
  },
  "language_info": {
   "codemirror_mode": {
    "name": "ipython",
    "version": 2
   },
   "file_extension": ".py",
   "mimetype": "text/x-python",
   "name": "python",
   "nbconvert_exporter": "python",
   "pygments_lexer": "ipython2",
   "version": "2.7.6"
  }
 },
 "nbformat": 4,
 "nbformat_minor": 5
}
